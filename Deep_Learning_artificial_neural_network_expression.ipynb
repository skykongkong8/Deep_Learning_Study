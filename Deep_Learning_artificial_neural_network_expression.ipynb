{
 "cells": [
  {
   "cell_type": "code",
   "execution_count": 1,
   "metadata": {},
   "outputs": [
    {
     "data": {
      "text/plain": [
       "{'W1': array([[ 0.22213732, -0.06183368,  0.28965512,  0.68111966, -0.10471657,\n",
       "         -0.10470923,  0.70624544,  0.34320724, -0.20995533,  0.24264023],\n",
       "        [-0.20724669, -0.20828068,  0.10820882, -0.85564494, -0.77140671,\n",
       "         -0.25146263, -0.45295185,  0.14053568, -0.40608071, -0.63160142],\n",
       "        [ 0.65545806, -0.10097023,  0.03019953, -0.63716676, -0.24345536,\n",
       "          0.04960609, -0.51473998,  0.16801726, -0.26861379, -0.13044941],\n",
       "        [-0.26909138,  0.82836399, -0.00603614, -0.47302271,  0.36785327,\n",
       "         -0.54597788,  0.09340664, -0.87639112, -0.59398286,  0.08803902],\n",
       "        [ 0.33025229,  0.07663823, -0.05171948, -0.13465767, -0.66121514,\n",
       "         -0.32192412, -0.20600392,  0.47275943,  0.15367077, -0.78845553]]),\n",
       " 'b1': [0.1449347571969446,\n",
       "  -0.17221403118830395,\n",
       "  -0.3027287216298514,\n",
       "  0.27354995241459534,\n",
       "  0.461077003414154],\n",
       " 'W2': array([[ 0.41648113, -0.37530949, -0.13828398,  0.14814551,  0.43627704],\n",
       "        [-0.21429323, -0.08302922, -0.49476804, -0.53495987,  0.36337259],\n",
       "        [ 0.60652898, -0.03220391,  0.44879356,  0.16172855, -0.28850632],\n",
       "        [ 0.16162103,  0.68783086, -0.01602189,  0.69972991, -1.17158563],\n",
       "        [ 0.36756597,  0.03892863, -0.13372015,  0.04103667, -0.88886784]]),\n",
       " 'b2': [-0.09824025479007718,\n",
       "  0.15970559710400395,\n",
       "  0.6609343095168291,\n",
       "  -0.23177748775470586,\n",
       "  -0.36156933108857764],\n",
       " 'W3': array([[-0.28968956,  0.52850766,  0.18980454, -0.3058572 ,  0.29633509],\n",
       "        [ 0.05604775,  0.55924745, -0.40533054, -0.18917583, -0.22638375],\n",
       "        [-0.84496075,  0.17096512,  0.15072033,  0.00295226, -0.13543894]]),\n",
       " 'b3': [-0.8171646789259271, -0.24285969033193708, -0.19786631837192284]}"
      ]
     },
     "execution_count": 1,
     "metadata": {},
     "output_type": "execute_result"
    }
   ],
   "source": [
    "\"\"\"#1 가중치와 편향을 초기화해서 저장\"\"\"\n",
    "import numpy as np\n",
    "\n",
    "# numpy 임의성 조절\n",
    "np.random.seed(42)\n",
    "\n",
    "def initialize_parameters(neurons_per_layer):\n",
    "    \"\"\"신경망의 가중치와 편향을 초기화해주는 함수\"\"\"\n",
    "    L = len(neurons_per_layer)- 1  # 층 개수 저장\n",
    "    parameters = {}\n",
    "    \n",
    "        # 1층 부터 L층까지 돌면서 가중치와 편향 초기화\n",
    "        #이때 가중치의 2차원배열 행-열 관계 순서가 일반적인 경우와 반대임--추후에 계산을 편하게 하기 위함\n",
    "    for l in range(1, L+1):\n",
    "        parameters['W' + str(l)] = np.random.randn(neurons_per_layer[l],neurons_per_layer[l-1])*(np.sqrt(neurons_per_layer[l])**-1)\n",
    "        parameters['b' + str(l)] = [i*(np.sqrt(neurons_per_layer[l])**-1) for i in np.random.randn(neurons_per_layer[l])]        \n",
    "    \n",
    "    return parameters\n",
    "\n",
    "# 실행 코드\n",
    "# 각 층별 뉴런의 개수가 저장되어 있는 리스트 neurons_per_layer\n",
    "neurons_per_layer = [10, 5, 5, 3]\n",
    "initialize_parameters(neurons_per_layer)"
   ]
  },
  {
   "cell_type": "code",
   "execution_count": 9,
   "metadata": {},
   "outputs": [
    {
     "data": {
      "text/plain": [
       "array([0.39847348, 0.63079802, 0.79832892, 0.93056447, 0.67941405,\n",
       "       0.67578969, 0.05318435, 0.37468117, 0.12677036, 0.6419338 ])"
      ]
     },
     "execution_count": 9,
     "metadata": {},
     "output_type": "execute_result"
    }
   ],
   "source": [
    "\"\"\"#2 순전파(feed forward) 구현해보기\"\"\"\n",
    "# 인공 신경망 구현에 사용할 라이브러리 임포트\n",
    "import numpy as np\n",
    "import pandas as pd\n",
    "\n",
    "# numpy 임의성 조절\n",
    "np.random.seed(42)\n",
    "\n",
    "# 데이터 셋 가지고 오기\n",
    "dataset = pd.read_csv('C:/Users/공성식/Desktop/WORKSTATION/Python Workplace/codeit/deep_learning/5fd21438168b2559ed22ef4e_4007/4007/data/MNIST_preprocessed.csv', sep=',', header=None).values\n",
    "\n",
    "# 입력, 목표 변수 데이터 셋 나누기\n",
    "X = dataset[:, 0:784]\n",
    "Y = dataset[:, 784:]\n",
    "\n",
    "# training, testing 데이터 셋 나누기\n",
    "X_train, X_test = X[0:250,], X[250:,]\n",
    "Y_train, Y_test = Y[0:250,], Y[250:,]\n",
    "\n",
    "def sigmoid(x):\n",
    "    \"\"\"시그모이드 함수\"\"\"\n",
    "    return 1/(1 + np.exp(-x))\n",
    "\n",
    "def initialize_parameters(nodes_per_layer):\n",
    "    \"\"\"신경망의 가중치와 편향을 초기화해주는 함수\"\"\"\n",
    "    L = len(nodes_per_layer) - 1  # 층 개수 저장\n",
    "    parameters = {}\n",
    "    \n",
    "    # 1층 부터 L 층까지 돌면서 가중치와 편향 초기화\n",
    "    for l in range(1, L+1):\n",
    "        parameters['W' + str(l)] = np.random.randn(nodes_per_layer[l], nodes_per_layer[l-1]) * np.sqrt(1. / nodes_per_layer[l])\n",
    "        parameters['b' + str(l)] = np.random.randn(nodes_per_layer[l]) * np.sqrt(1. / nodes_per_layer[l])\n",
    "        \n",
    "    return parameters\n",
    "\n",
    "def feed_forward(x, parameters):\n",
    "    \"\"\"순전파 함수\"\"\"\n",
    "    cache = {'a0': x}  # 0 번째 층 출력 저장\n",
    "    L = len(parameters) // 2  # 층 수 저장\n",
    "    \n",
    "    for l in range(1, L+1):\n",
    "        # 전 층 뉴런의 출력, 현재 층 뉴런들의 가중치, 편향 데이터를 가지고 온다.\n",
    "        a_prev = cache['a'+str(l-1)]\n",
    "        W = parameters['W'+str(l)]\n",
    "        b = parameters['b'+str(l)]\n",
    "        \n",
    "        # 가지고 온 데이터로 z와 a를 계산한다.\n",
    "        \"\"\"numpy 배열끼리의 연산임을 지각하자\"\"\"\n",
    "        z = np.dot(W,a_prev)+b\n",
    "        a = sigmoid(z)\n",
    "\n",
    "        # 결과 값을 캐시에 저장한다.\n",
    "        cache['z' + str(l)] = z\n",
    "        cache['a' + str(l)] = a\n",
    "                \n",
    "    return a, cache\n",
    "\n",
    "# 실행 코드\n",
    "neurons_per_layer = [784, 128, 64, 10]\n",
    "parameters = initialize_parameters(neurons_per_layer)\n",
    "feed_forward(X_train[0], parameters)[0]\n",
    "\n"
   ]
  },
  {
   "cell_type": "code",
   "execution_count": null,
   "metadata": {},
   "outputs": [],
   "source": []
  }
 ],
 "metadata": {
  "kernelspec": {
   "display_name": "Python 3",
   "language": "python",
   "name": "python3"
  },
  "language_info": {
   "codemirror_mode": {
    "name": "ipython",
    "version": 3
   },
   "file_extension": ".py",
   "mimetype": "text/x-python",
   "name": "python",
   "nbconvert_exporter": "python",
   "pygments_lexer": "ipython3",
   "version": "3.8.3"
  }
 },
 "nbformat": 4,
 "nbformat_minor": 4
}
